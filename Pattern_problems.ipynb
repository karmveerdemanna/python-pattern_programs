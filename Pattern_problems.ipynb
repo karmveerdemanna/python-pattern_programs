{
 "cells": [
  {
   "cell_type": "markdown",
   "id": "1f4c3f30",
   "metadata": {},
   "source": [
    "# Program to print half pyramid using '*'"
   ]
  },
  {
   "cell_type": "code",
   "execution_count": 16,
   "id": "d3625e3f",
   "metadata": {},
   "outputs": [
    {
     "name": "stdout",
     "output_type": "stream",
     "text": [
      "Enter the number of rows: 5\n",
      "* \n",
      "\n",
      "* * \n",
      "\n",
      "* * * \n",
      "\n",
      "* * * * \n",
      "\n",
      "* * * * * \n",
      "\n"
     ]
    }
   ],
   "source": [
    "rows = int(input(\"Enter the number of rows: \"))\n",
    "\n",
    "for i in range(rows):\n",
    "    for j in range(i+1):\n",
    "        print(\"*\", end=\" \")\n",
    "    print(\"\\n\")"
   ]
  },
  {
   "cell_type": "markdown",
   "id": "5d6bdf77",
   "metadata": {},
   "source": [
    "# Program to print half pyramid a using numbers"
   ]
  },
  {
   "cell_type": "code",
   "execution_count": 4,
   "id": "493aec89",
   "metadata": {},
   "outputs": [
    {
     "name": "stdout",
     "output_type": "stream",
     "text": [
      "enter the number :5\n",
      "1\n",
      "\n",
      "12\n",
      "\n",
      "123\n",
      "\n",
      "1234\n",
      "\n",
      "12345\n",
      "\n"
     ]
    }
   ],
   "source": [
    "rows = int(input(\"enter the number :\"))\n",
    "\n",
    "for i in range(rows):\n",
    "    for j in range(i+1):\n",
    "        print(j+1, end=\"\")\n",
    "    print(\"\\n\")"
   ]
  },
  {
   "cell_type": "markdown",
   "id": "b0e386ed",
   "metadata": {},
   "source": [
    "# Program to print half pyramid using alphabets"
   ]
  },
  {
   "cell_type": "code",
   "execution_count": 12,
   "id": "1f86f09a",
   "metadata": {},
   "outputs": [
    {
     "name": "stdout",
     "output_type": "stream",
     "text": [
      "Enter the number of rows: 5\n",
      "A \n",
      "\n",
      "B B \n",
      "\n",
      "C C C \n",
      "\n",
      "D D D D \n",
      "\n",
      "E E E E E \n",
      "\n"
     ]
    }
   ],
   "source": [
    "rows = int(input(\"Enter the number of rows: \"))\n",
    "ascii_value = 65\n",
    "\n",
    "for i in range(rows):\n",
    "    for j in range(i+1):\n",
    "        alphabet = chr(ascii_value)\n",
    "        print(alphabet, end=\" \")\n",
    "    ascii_value += 1\n",
    "    print(\"\\n\")"
   ]
  },
  {
   "cell_type": "markdown",
   "id": "8e959eee",
   "metadata": {},
   "source": [
    "# Program to find Inverted half pyramid using \"*\""
   ]
  },
  {
   "cell_type": "code",
   "execution_count": 13,
   "id": "ec9e27ff",
   "metadata": {},
   "outputs": [
    {
     "name": "stdout",
     "output_type": "stream",
     "text": [
      "Enter the number of rows: 5\n",
      "* * * * * \n",
      "\n",
      "* * * * \n",
      "\n",
      "* * * \n",
      "\n",
      "* * \n",
      "\n",
      "* \n",
      "\n"
     ]
    }
   ],
   "source": [
    "rows = int(input(\"Enter the number of rows: \"))\n",
    "\n",
    "for i in range(rows, 0, -1):\n",
    "    for j in range(0,i):\n",
    "        print(\"*\", end=\" \")\n",
    "    print(\"\\n\")"
   ]
  },
  {
   "cell_type": "markdown",
   "id": "87a4bd20",
   "metadata": {},
   "source": [
    "# Inverted half pyramid using numbers"
   ]
  },
  {
   "cell_type": "code",
   "execution_count": 15,
   "id": "a12f2adb",
   "metadata": {},
   "outputs": [
    {
     "name": "stdout",
     "output_type": "stream",
     "text": [
      "Enter the number of rows :6\n",
      "1 2 3 4 5 6 \n",
      "\n",
      "1 2 3 4 5 \n",
      "\n",
      "1 2 3 4 \n",
      "\n",
      "1 2 3 \n",
      "\n",
      "1 2 \n",
      "\n",
      "1 \n",
      "\n"
     ]
    }
   ],
   "source": [
    "rows = int(input(\"Enter the number of rows :\"))\n",
    "\n",
    "for i in range(rows, 0, -1):\n",
    "    for j in range(1, i+1):\n",
    "        print(j, end=\" \")\n",
    "    print(\"\\n\")"
   ]
  },
  {
   "cell_type": "markdown",
   "id": "c1699de4",
   "metadata": {},
   "source": [
    "# Program to print full pyramid using *"
   ]
  },
  {
   "cell_type": "code",
   "execution_count": 23,
   "id": "f0b52764",
   "metadata": {
    "scrolled": true
   },
   "outputs": [
    {
     "name": "stdout",
     "output_type": "stream",
     "text": [
      "Enter the number of rows: 10\n",
      "         *\n",
      "        ***\n",
      "       *****\n",
      "      *******\n",
      "     *********\n",
      "    ***********\n",
      "   *************\n",
      "  ***************\n",
      " *****************\n",
      "*******************\n"
     ]
    }
   ],
   "source": [
    "rows = int(input(\"Enter the number of rows: \"))\n",
    "k = 0\n",
    "\n",
    "for i in range(1, rows+1):\n",
    "    for space in range(1, (rows-i)+1):\n",
    "        print(end=\" \")\n",
    "    \n",
    "    while k!=(2*i-1):\n",
    "        print(\"*\", end=\"\")\n",
    "        k += 1\n",
    "    k = 0\n",
    "    print()"
   ]
  },
  {
   "cell_type": "markdown",
   "id": "6cab162a",
   "metadata": {},
   "source": [
    "# Inverted full pyramid of *"
   ]
  },
  {
   "cell_type": "code",
   "execution_count": 33,
   "id": "88dca5bd",
   "metadata": {},
   "outputs": [
    {
     "name": "stdout",
     "output_type": "stream",
     "text": [
      "enter number of row: 5\n",
      "        *******\n",
      "        *****\n",
      "        ***\n",
      "        *\n"
     ]
    }
   ],
   "source": [
    "rows = int(input(\"enter number of row: \"))\n",
    "\n",
    "for i in range(rows, 1, -1):\n",
    "    for space in range(0, rows-1):\n",
    "        print(\"  \", end=\"\")\n",
    "    for j in range(i, 2*i-1):\n",
    "        print(\"*\", end=\"\")\n",
    "    for j in range(1, i-1):\n",
    "         print(\"*\", end=\"\")\n",
    "    print()\n",
    "        "
   ]
  },
  {
   "cell_type": "markdown",
   "id": "e8de1dfd",
   "metadata": {},
   "source": [
    "# Program to print pascal's triangle"
   ]
  },
  {
   "cell_type": "code",
   "execution_count": 35,
   "id": "5b9004f1",
   "metadata": {},
   "outputs": [
    {
     "name": "stdout",
     "output_type": "stream",
     "text": [
      "Enter number of rows: 6\n",
      "     1 \n",
      "    1 1 \n",
      "   1 2 1 \n",
      "  1 3 3 1 \n",
      " 1 4 6 4 1 \n",
      "1 5 10 10 5 1 \n"
     ]
    }
   ],
   "source": [
    "rows = int(input(\"Enter number of rows: \"))\n",
    "coef = 1\n",
    "\n",
    "for i in range(1,rows+1):\n",
    "    for space in range(1, rows-i+1):\n",
    "        print(\" \",end=\"\")\n",
    "    for j in range(0, i):\n",
    "        if j == 0 or i == 0:\n",
    "            coef = 1\n",
    "        else:\n",
    "            coef = coef * (i - j)//j\n",
    "        print(coef, end=\" \")\n",
    "    print()"
   ]
  },
  {
   "cell_type": "markdown",
   "id": "9bb9bda4",
   "metadata": {},
   "source": [
    "# Program to print Floyd's Triangle"
   ]
  },
  {
   "cell_type": "code",
   "execution_count": 36,
   "id": "f86caa9c",
   "metadata": {},
   "outputs": [
    {
     "name": "stdout",
     "output_type": "stream",
     "text": [
      "Enter number of rows: 4\n",
      "1 \n",
      "2 3 \n",
      "4 5 6 \n",
      "7 8 9 10 \n"
     ]
    }
   ],
   "source": [
    "rows = int(input(\"Enter number of rows: \"))\n",
    "number = 1\n",
    "\n",
    "for i in range(1, rows+1):\n",
    "    for j in range(1, i+1):\n",
    "        print(number, end=\" \")\n",
    "        number += 1\n",
    "    \n",
    "    print()\n",
    "        "
   ]
  },
  {
   "cell_type": "code",
   "execution_count": null,
   "id": "6f676350",
   "metadata": {},
   "outputs": [],
   "source": []
  }
 ],
 "metadata": {
  "kernelspec": {
   "display_name": "Python 3 (ipykernel)",
   "language": "python",
   "name": "python3"
  },
  "language_info": {
   "codemirror_mode": {
    "name": "ipython",
    "version": 3
   },
   "file_extension": ".py",
   "mimetype": "text/x-python",
   "name": "python",
   "nbconvert_exporter": "python",
   "pygments_lexer": "ipython3",
   "version": "3.9.7"
  }
 },
 "nbformat": 4,
 "nbformat_minor": 5
}
